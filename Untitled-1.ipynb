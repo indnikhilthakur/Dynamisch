{
 "cells": [
  {
   "cell_type": "code",
   "execution_count": 19,
   "metadata": {},
   "outputs": [
    {
     "name": "stdout",
     "output_type": "stream",
     "text": [
      "<function f1 at 0x000001EC1568C820>\n",
      "function\n",
      "function is called\n"
     ]
    }
   ],
   "source": [
    "def f1():\n",
    "    print(\"function\")\n",
    "    \n",
    "print(f1)\n",
    "\n",
    "def f2(f):\n",
    "    f()\n",
    "    print(\"function is called\")\n",
    "f2(f1)\n"
   ]
  },
  {
   "cell_type": "code",
   "execution_count": 41,
   "metadata": {},
   "outputs": [
    {
     "name": "stdout",
     "output_type": "stream",
     "text": [
      "started\n",
      "hello\n",
      "ended\n",
      "started\n",
      "hello this is function 3\n",
      "ended\n",
      "started\n",
      "hello this is function 4 passed arguments to the function\n",
      "ended\n",
      "started\n",
      "200\n",
      "ended\n"
     ]
    }
   ],
   "source": [
    "def f1(func):\n",
    "    def wrapper(*args, **kwargs):\n",
    "        print(\"started\")\n",
    "        func(*args, **kwargs)\n",
    "        print(\"ended\")\n",
    "    return wrapper\n",
    "\n",
    "def f2():\n",
    "    print(\"hello\")\n",
    "\n",
    "# f1(f2)\n",
    "# f1(f2)()\n",
    "f = f1(f2)\n",
    "f()\n",
    "\n",
    "\n",
    "@f1\n",
    "def f3():\n",
    "    print(\"hello this is function 3\")\n",
    "\n",
    "f3()\n",
    "\n",
    "\n",
    "@f1\n",
    "def f4(z):\n",
    "    print(\"hello this is function 4\"+\" \"+z)\n",
    "    # print(z)\n",
    "\n",
    "z = \"passed arguments to the function\"\n",
    "f4(z)\n",
    "\n",
    "@f1\n",
    "def add(x,y):\n",
    "    # y = 100\n",
    "    z = x + y\n",
    "    print(z)\n",
    "\n",
    "# print(add(100, 200))\n",
    "add(100,100)"
   ]
  },
  {
   "cell_type": "code",
   "execution_count": 64,
   "metadata": {},
   "outputs": [
    {
     "name": "stdout",
     "output_type": "stream",
     "text": [
      "started\n",
      "run\n",
      "ended\n"
     ]
    }
   ],
   "source": [
    "def f1(func):\n",
    "    def wrapper(*args, **kwargs):\n",
    "        print(\"started\")\n",
    "        func(*args, **kwargs)\n",
    "        print(\"ended\")\n",
    "    return wrapper\n",
    "\n",
    "# @f1\n",
    "# def test():\n",
    "#     def test_run():\n",
    "#         print(\"run\")\n",
    "#     test_run()\n",
    "\n",
    "# test()\n",
    "\n",
    "\n",
    "class test:\n",
    "    @f1\n",
    "    def test_run(self):\n",
    "        print(\"run\")\n",
    "    # test_run()\n",
    "\n",
    "t = test()\n",
    "t.test_run()\n",
    "\n",
    "\n"
   ]
  },
  {
   "cell_type": "code",
   "execution_count": 67,
   "metadata": {},
   "outputs": [
    {
     "name": "stdout",
     "output_type": "stream",
     "text": [
      "function took: 1.0099389553070068 seconds\n"
     ]
    }
   ],
   "source": [
    "import time\n",
    "def timer(func):\n",
    "    def wrapper():\n",
    "        before = time.time()\n",
    "        func()\n",
    "        print(\"function took:\", time.time() - before, \"seconds\")\n",
    "    return wrapper\n",
    "\n",
    "@timer\n",
    "def run():\n",
    "    time.sleep(1)\n",
    "\n",
    "run()"
   ]
  },
  {
   "cell_type": "code",
   "execution_count": 69,
   "metadata": {},
   "outputs": [
    {
     "name": "stdout",
     "output_type": "stream",
     "text": [
      "12\n"
     ]
    }
   ],
   "source": [
    "import datetime\n",
    "def log(func):\n",
    "    def wrapper(*args, **kwargs):\n",
    "        with open(\"logs.txt\", \"a\") as f:\n",
    "            f.write(\"called function with \"+\" \".join([str(arg) for arg in args]) +\" at \"+ str(datetime.datetime.now()) + \"\\n\")\n",
    "        val = func(*args, **kwargs)\n",
    "        return val\n",
    "    return wrapper    \n",
    "\n",
    "@log\n",
    "def run(a,b,c):\n",
    "    print(a+b+c)\n",
    "run(1,2,9)\n",
    "    "
   ]
  },
  {
   "cell_type": "code",
   "execution_count": 8,
   "metadata": {},
   "outputs": [
    {
     "name": "stdout",
     "output_type": "stream",
     "text": [
      "{'movie' : 'spiderman', 'character' : 'peter parker'}\n",
      "<class 'str'>\n"
     ]
    }
   ],
   "source": [
    "import json\n",
    "\n",
    "dict = \"{'movie' : 'spiderman', 'character' : 'peter parker'}\"\n",
    "print(dict)\n",
    "print(type(dict))"
   ]
  },
  {
   "cell_type": "code",
   "execution_count": 11,
   "metadata": {},
   "outputs": [
    {
     "name": "stdout",
     "output_type": "stream",
     "text": [
      "{'movie': 'spiderman', 'character': 'peter parker'}\n",
      "<class 'dict'>\n"
     ]
    }
   ],
   "source": [
    "dict = '{\"movie\" : \"spiderman\", \"character\" : \"peter parker\"}'\n",
    "json_dict = json.loads(dict)\n",
    "print(json_dict)\n",
    "print(type(json_dict))"
   ]
  },
  {
   "cell_type": "code",
   "execution_count": 7,
   "metadata": {},
   "outputs": [
    {
     "ename": "JSONDecodeError",
     "evalue": "Expecting value: line 1 column 1 (char 0)",
     "output_type": "error",
     "traceback": [
      "\u001b[1;31m---------------------------------------------------------------------------\u001b[0m",
      "\u001b[1;31mJSONDecodeError\u001b[0m                           Traceback (most recent call last)",
      "\u001b[1;32md:\\django\\rest_api\\Untitled-1.ipynb Cell 8\u001b[0m in \u001b[0;36m<cell line: 2>\u001b[1;34m()\u001b[0m\n\u001b[0;32m      <a href='vscode-notebook-cell:/d%3A/django/rest_api/Untitled-1.ipynb#X10sZmlsZQ%3D%3D?line=0'>1</a>\u001b[0m z \u001b[39m=\u001b[39m \u001b[39m\"\u001b[39m\u001b[39mjson data\u001b[39m\u001b[39m\"\u001b[39m\n\u001b[1;32m----> <a href='vscode-notebook-cell:/d%3A/django/rest_api/Untitled-1.ipynb#X10sZmlsZQ%3D%3D?line=1'>2</a>\u001b[0m json_dict \u001b[39m=\u001b[39m json\u001b[39m.\u001b[39;49mloads(z)\n\u001b[0;32m      <a href='vscode-notebook-cell:/d%3A/django/rest_api/Untitled-1.ipynb#X10sZmlsZQ%3D%3D?line=2'>3</a>\u001b[0m \u001b[39mprint\u001b[39m(json_dict)\n",
      "File \u001b[1;32mc:\\Users\\Nikhil Thakur\\anaconda3\\lib\\json\\__init__.py:346\u001b[0m, in \u001b[0;36mloads\u001b[1;34m(s, cls, object_hook, parse_float, parse_int, parse_constant, object_pairs_hook, **kw)\u001b[0m\n\u001b[0;32m    341\u001b[0m     s \u001b[39m=\u001b[39m s\u001b[39m.\u001b[39mdecode(detect_encoding(s), \u001b[39m'\u001b[39m\u001b[39msurrogatepass\u001b[39m\u001b[39m'\u001b[39m)\n\u001b[0;32m    343\u001b[0m \u001b[39mif\u001b[39;00m (\u001b[39mcls\u001b[39m \u001b[39mis\u001b[39;00m \u001b[39mNone\u001b[39;00m \u001b[39mand\u001b[39;00m object_hook \u001b[39mis\u001b[39;00m \u001b[39mNone\u001b[39;00m \u001b[39mand\u001b[39;00m\n\u001b[0;32m    344\u001b[0m         parse_int \u001b[39mis\u001b[39;00m \u001b[39mNone\u001b[39;00m \u001b[39mand\u001b[39;00m parse_float \u001b[39mis\u001b[39;00m \u001b[39mNone\u001b[39;00m \u001b[39mand\u001b[39;00m\n\u001b[0;32m    345\u001b[0m         parse_constant \u001b[39mis\u001b[39;00m \u001b[39mNone\u001b[39;00m \u001b[39mand\u001b[39;00m object_pairs_hook \u001b[39mis\u001b[39;00m \u001b[39mNone\u001b[39;00m \u001b[39mand\u001b[39;00m \u001b[39mnot\u001b[39;00m kw):\n\u001b[1;32m--> 346\u001b[0m     \u001b[39mreturn\u001b[39;00m _default_decoder\u001b[39m.\u001b[39;49mdecode(s)\n\u001b[0;32m    347\u001b[0m \u001b[39mif\u001b[39;00m \u001b[39mcls\u001b[39m \u001b[39mis\u001b[39;00m \u001b[39mNone\u001b[39;00m:\n\u001b[0;32m    348\u001b[0m     \u001b[39mcls\u001b[39m \u001b[39m=\u001b[39m JSONDecoder\n",
      "File \u001b[1;32mc:\\Users\\Nikhil Thakur\\anaconda3\\lib\\json\\decoder.py:337\u001b[0m, in \u001b[0;36mJSONDecoder.decode\u001b[1;34m(self, s, _w)\u001b[0m\n\u001b[0;32m    332\u001b[0m \u001b[39mdef\u001b[39;00m \u001b[39mdecode\u001b[39m(\u001b[39mself\u001b[39m, s, _w\u001b[39m=\u001b[39mWHITESPACE\u001b[39m.\u001b[39mmatch):\n\u001b[0;32m    333\u001b[0m     \u001b[39m\"\"\"Return the Python representation of ``s`` (a ``str`` instance\u001b[39;00m\n\u001b[0;32m    334\u001b[0m \u001b[39m    containing a JSON document).\u001b[39;00m\n\u001b[0;32m    335\u001b[0m \n\u001b[0;32m    336\u001b[0m \u001b[39m    \"\"\"\u001b[39;00m\n\u001b[1;32m--> 337\u001b[0m     obj, end \u001b[39m=\u001b[39m \u001b[39mself\u001b[39;49m\u001b[39m.\u001b[39;49mraw_decode(s, idx\u001b[39m=\u001b[39;49m_w(s, \u001b[39m0\u001b[39;49m)\u001b[39m.\u001b[39;49mend())\n\u001b[0;32m    338\u001b[0m     end \u001b[39m=\u001b[39m _w(s, end)\u001b[39m.\u001b[39mend()\n\u001b[0;32m    339\u001b[0m     \u001b[39mif\u001b[39;00m end \u001b[39m!=\u001b[39m \u001b[39mlen\u001b[39m(s):\n",
      "File \u001b[1;32mc:\\Users\\Nikhil Thakur\\anaconda3\\lib\\json\\decoder.py:355\u001b[0m, in \u001b[0;36mJSONDecoder.raw_decode\u001b[1;34m(self, s, idx)\u001b[0m\n\u001b[0;32m    353\u001b[0m     obj, end \u001b[39m=\u001b[39m \u001b[39mself\u001b[39m\u001b[39m.\u001b[39mscan_once(s, idx)\n\u001b[0;32m    354\u001b[0m \u001b[39mexcept\u001b[39;00m \u001b[39mStopIteration\u001b[39;00m \u001b[39mas\u001b[39;00m err:\n\u001b[1;32m--> 355\u001b[0m     \u001b[39mraise\u001b[39;00m JSONDecodeError(\u001b[39m\"\u001b[39m\u001b[39mExpecting value\u001b[39m\u001b[39m\"\u001b[39m, s, err\u001b[39m.\u001b[39mvalue) \u001b[39mfrom\u001b[39;00m \u001b[39mNone\u001b[39m\n\u001b[0;32m    356\u001b[0m \u001b[39mreturn\u001b[39;00m obj, end\n",
      "\u001b[1;31mJSONDecodeError\u001b[0m: Expecting value: line 1 column 1 (char 0)"
     ]
    }
   ],
   "source": [
    "json_dict = json.loads()\n",
    "print(json_dict)"
   ]
  },
  {
   "cell_type": "code",
   "execution_count": 2,
   "metadata": {},
   "outputs": [
    {
     "name": "stdout",
     "output_type": "stream",
     "text": [
      "{\"movie\": \"spiderman\", \"character\": \"peter parker\"}\n",
      "<class 'str'>\n",
      "{'movie': 'spiderman', 'character': 'peter parker'}\n",
      "<class 'dict'>\n"
     ]
    }
   ],
   "source": [
    "import json\n",
    "\n",
    "dict = {'movie' : 'spiderman', 'character' : 'peter parker'}\n",
    "# dict = {\"movie\" : \"spiderman\", \"character\" : \"peter parker\"}\n",
    "json_dict = json.dumps(dict)\n",
    "print(json_dict)\n",
    "print(type(json_dict))\n",
    "parse_json = json.loads(json_dict)\n",
    "print(parse_json)\n",
    "print(type(parse_json))\n",
    "\n",
    "\n",
    "\n"
   ]
  },
  {
   "cell_type": "code",
   "execution_count": 5,
   "metadata": {},
   "outputs": [
    {
     "data": {
      "text/plain": [
       "'renderring.....'"
      ]
     },
     "execution_count": 5,
     "metadata": {},
     "output_type": "execute_result"
    }
   ],
   "source": [
    "str = \"Renderring.....\"\n",
    "z = str.lower()\n",
    "z\n",
    "# len(z)"
   ]
  },
  {
   "cell_type": "code",
   "execution_count": null,
   "metadata": {},
   "outputs": [],
   "source": []
  }
 ],
 "metadata": {
  "kernelspec": {
   "display_name": "base",
   "language": "python",
   "name": "python3"
  },
  "language_info": {
   "codemirror_mode": {
    "name": "ipython",
    "version": 3
   },
   "file_extension": ".py",
   "mimetype": "text/x-python",
   "name": "python",
   "nbconvert_exporter": "python",
   "pygments_lexer": "ipython3",
   "version": "3.9.12"
  },
  "orig_nbformat": 4,
  "vscode": {
   "interpreter": {
    "hash": "b9223a3e04814ae41bdd90daee6ebed76aff13f20d3d2c6396dd4d48354cf7bb"
   }
  }
 },
 "nbformat": 4,
 "nbformat_minor": 2
}
